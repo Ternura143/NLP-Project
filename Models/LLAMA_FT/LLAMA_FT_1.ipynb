{
  "nbformat": 4,
  "nbformat_minor": 0,
  "metadata": {
    "colab": {
      "provenance": [],
      "machine_shape": "hm",
      "gpuType": "A100"
    },
    "kernelspec": {
      "name": "python3",
      "display_name": "Python 3"
    },
    "language_info": {
      "name": "python"
    },
    "accelerator": "GPU"
  },
  "cells": [
    {
      "cell_type": "code",
      "execution_count": 1,
      "metadata": {
        "colab": {
          "base_uri": "https://localhost:8080/"
        },
        "id": "kesP6nlpWihi",
        "outputId": "1768379d-5962-442a-b627-610b94427341"
      },
      "outputs": [
        {
          "output_type": "stream",
          "name": "stdout",
          "text": [
            "🚀 PyTorch 版本: 2.5.1+cu124\n",
            "🚀 Transformers 版本: 4.48.2\n",
            "🚀 GPU 是否可用: True - NVIDIA A100-SXM4-40GB\n"
          ]
        }
      ],
      "source": [
        "import torch\n",
        "import transformers\n",
        "\n",
        "print(f\"🚀 PyTorch 版本: {torch.__version__}\")\n",
        "print(f\"🚀 Transformers 版本: {transformers.__version__}\")\n",
        "print(f\"🚀 GPU 是否可用: {torch.cuda.is_available()} - {torch.cuda.get_device_name(0)}\")\n"
      ]
    },
    {
      "cell_type": "code",
      "source": [
        "import torch\n",
        "from transformers import AutoModelForSequenceClassification, AutoTokenizer\n",
        "\n",
        "# 🚀 选择 RoBERTa 预训练模型\n",
        "MODEL = \"cardiffnlp/twitter-roberta-base-sentiment\"  # 这个模型原本是 3 分类\n",
        "\n",
        "# 🚀 加载 tokenizer\n",
        "tokenizer = AutoTokenizer.from_pretrained(MODEL)\n",
        "\n",
        "# 🚀 强制加载模型，但忽略 `classifier` 头部\n",
        "model = AutoModelForSequenceClassification.from_pretrained(\n",
        "    MODEL,\n",
        "    num_labels=2,  # 你的任务是 2 分类\n",
        "    ignore_mismatched_sizes=True  # 🚀 让 HuggingFace 自动调整分类层\n",
        ")\n",
        "\n",
        "print(\"\\n✅ RoBERTa 加载完成，分类头已自动调整！\")\n",
        "\n",
        "# 🚀 检查 GPU 是否可用\n",
        "device = torch.device(\"cuda\" if torch.cuda.is_available() else \"cpu\")\n",
        "model.to(device)\n",
        "\n",
        "print(f\"\\n✅ RoBERTa 加载完成，使用设备: {device}\")\n"
      ],
      "metadata": {
        "colab": {
          "base_uri": "https://localhost:8080/"
        },
        "id": "IUsL1qRCXgrG",
        "outputId": "2b297fed-452e-4b30-c639-92f8480bfa7c"
      },
      "execution_count": 10,
      "outputs": [
        {
          "output_type": "stream",
          "name": "stderr",
          "text": [
            "Some weights of RobertaForSequenceClassification were not initialized from the model checkpoint at cardiffnlp/twitter-roberta-base-sentiment and are newly initialized because the shapes did not match:\n",
            "- classifier.out_proj.weight: found shape torch.Size([3, 768]) in the checkpoint and torch.Size([2, 768]) in the model instantiated\n",
            "- classifier.out_proj.bias: found shape torch.Size([3]) in the checkpoint and torch.Size([2]) in the model instantiated\n",
            "You should probably TRAIN this model on a down-stream task to be able to use it for predictions and inference.\n"
          ]
        },
        {
          "output_type": "stream",
          "name": "stdout",
          "text": [
            "\n",
            "✅ RoBERTa 加载完成，分类头已自动调整！\n",
            "\n",
            "✅ RoBERTa 加载完成，使用设备: cuda\n"
          ]
        }
      ]
    },
    {
      "cell_type": "code",
      "source": [
        "import pandas as pd\n",
        "\n",
        "# 🚀 读取数据\n",
        "train_df = pd.read_csv(\"Train_Dataset.csv\")\n",
        "test_df = pd.read_csv(\"Test_Dataset.csv\")\n",
        "\n",
        "# 🚀 预览数据\n",
        "print(train_df.head())\n",
        "\n",
        "# 🚀 确保数据列名正确\n",
        "train_texts = train_df[\"tweet\"].tolist()\n",
        "train_labels = train_df[\"sarcastic\"].tolist()\n",
        "test_texts = test_df[\"tweet\"].tolist()\n",
        "test_labels = test_df[\"sarcastic\"].tolist()\n",
        "\n",
        "print(f\"\\n✅ 训练集样本数: {len(train_texts)}, 测试集样本数: {len(test_texts)}\")\n"
      ],
      "metadata": {
        "colab": {
          "base_uri": "https://localhost:8080/"
        },
        "id": "Jo50Vnw-XjA7",
        "outputId": "361c1b40-8f2f-4f12-8a1b-f804750a9817"
      },
      "execution_count": 11,
      "outputs": [
        {
          "output_type": "stream",
          "name": "stdout",
          "text": [
            "                                               tweet  sarcastic\n",
            "0  The only thing I got from college is a caffein...          1\n",
            "1  I love it when professors draw a big question ...          1\n",
            "2  Remember the hundred emails from companies whe...          1\n",
            "3  Today my pop-pop told me I was not “forced” to...          1\n",
            "4  @VolphanCarol @littlewhitty @mysticalmanatee I...          1\n",
            "\n",
            "✅ 训练集样本数: 6934, 测试集样本数: 1400\n"
          ]
        }
      ]
    },
    {
      "cell_type": "code",
      "source": [
        "# 🚀 对训练数据进行 Tokenization\n",
        "train_encodings = tokenizer(\n",
        "    train_texts, truncation=True, padding=True, max_length=128, return_tensors=\"pt\"\n",
        ")\n",
        "test_encodings = tokenizer(\n",
        "    test_texts, truncation=True, padding=True, max_length=128, return_tensors=\"pt\"\n",
        ")\n",
        "\n",
        "# 🚀 迁移到 GPU\n",
        "train_encodings = {key: val.to(device) for key, val in train_encodings.items()}\n",
        "test_encodings = {key: val.to(device) for key, val in test_encodings.items()}\n",
        "\n",
        "print(\"\\n✅ Tokenization 完成！\")\n"
      ],
      "metadata": {
        "colab": {
          "base_uri": "https://localhost:8080/"
        },
        "id": "BfagKo0SZIfS",
        "outputId": "f96f247b-2cc2-49f1-d242-ecc28bc78323"
      },
      "execution_count": 12,
      "outputs": [
        {
          "output_type": "stream",
          "name": "stdout",
          "text": [
            "\n",
            "✅ Tokenization 完成！\n"
          ]
        }
      ]
    },
    {
      "cell_type": "code",
      "source": [
        "from torch.utils.data import Dataset\n",
        "\n",
        "class SarcasmDataset(Dataset):\n",
        "    def __init__(self, encodings, labels):\n",
        "        self.encodings = encodings\n",
        "        self.labels = torch.tensor(labels, dtype=torch.long)  # 🚀 **确保 labels 是 LongTensor**\n",
        "\n",
        "    def __getitem__(self, idx):\n",
        "        item = {key: val[idx] for key, val in self.encodings.items()}\n",
        "        item['labels'] = self.labels[idx]  # 🚀 **让 labels 保持在 CPU**\n",
        "        return item\n",
        "\n",
        "    def __len__(self):\n",
        "        return len(self.labels)\n",
        "\n",
        "# ✅ 重新创建数据集\n",
        "train_dataset = SarcasmDataset(train_encodings, train_labels)\n",
        "test_dataset = SarcasmDataset(test_encodings, test_labels)\n",
        "\n",
        "print(\"\\n✅ 训练数据集和测试数据集已修正！\")\n",
        "\n"
      ],
      "metadata": {
        "colab": {
          "base_uri": "https://localhost:8080/"
        },
        "id": "aa4dNbanZKcA",
        "outputId": "9c688e3b-cf8b-4cd7-b5e9-541215bd7179"
      },
      "execution_count": 13,
      "outputs": [
        {
          "output_type": "stream",
          "name": "stdout",
          "text": [
            "\n",
            "✅ 训练数据集和测试数据集已修正！\n"
          ]
        }
      ]
    },
    {
      "cell_type": "code",
      "source": [
        "from transformers import Trainer, TrainingArguments\n",
        "import numpy as np\n",
        "from sklearn.metrics import accuracy_score, f1_score\n",
        "\n",
        "# 🚀 计算评价指标（F1-score & Accuracy）\n",
        "def compute_metrics(p):\n",
        "    pred, labels = p\n",
        "    pred = np.argmax(pred, axis=1)\n",
        "    return {\n",
        "        \"accuracy\": accuracy_score(labels, pred),\n",
        "        \"f1_score\": f1_score(labels, pred)\n",
        "    }\n",
        "\n",
        "training_args = TrainingArguments(\n",
        "    output_dir='./res',\n",
        "    evaluation_strategy=\"epoch\",\n",
        "    logging_strategy=\"epoch\",\n",
        "    save_strategy=\"epoch\",\n",
        "    num_train_epochs=5,\n",
        "    per_device_train_batch_size=32,\n",
        "    per_device_eval_batch_size=64,\n",
        "    warmup_steps=500,\n",
        "    weight_decay=0.01,\n",
        "    logging_dir='./logs4',\n",
        "    load_best_model_at_end=True,\n",
        "    report_to=\"none\",\n",
        "    dataloader_pin_memory=False\n",
        ")\n",
        "\n",
        "trainer = Trainer(\n",
        "    model=model,\n",
        "    args=training_args,\n",
        "    train_dataset=train_dataset,\n",
        "    eval_dataset=test_dataset,\n",
        "    compute_metrics=compute_metrics,\n",
        ")\n",
        "\n",
        "trainer.train()\n",
        "\n"
      ],
      "metadata": {
        "colab": {
          "base_uri": "https://localhost:8080/",
          "height": 324
        },
        "id": "nIqyFcVhZRYH",
        "outputId": "36e28257-9feb-4839-c103-763e6ac0150d"
      },
      "execution_count": 15,
      "outputs": [
        {
          "output_type": "stream",
          "name": "stderr",
          "text": [
            "/usr/local/lib/python3.11/dist-packages/transformers/training_args.py:1575: FutureWarning: `evaluation_strategy` is deprecated and will be removed in version 4.46 of 🤗 Transformers. Use `eval_strategy` instead\n",
            "  warnings.warn(\n"
          ]
        },
        {
          "output_type": "display_data",
          "data": {
            "text/plain": [
              "<IPython.core.display.HTML object>"
            ],
            "text/html": [
              "\n",
              "    <div>\n",
              "      \n",
              "      <progress value='1085' max='1085' style='width:300px; height:20px; vertical-align: middle;'></progress>\n",
              "      [1085/1085 03:14, Epoch 5/5]\n",
              "    </div>\n",
              "    <table border=\"1\" class=\"dataframe\">\n",
              "  <thead>\n",
              " <tr style=\"text-align: left;\">\n",
              "      <th>Epoch</th>\n",
              "      <th>Training Loss</th>\n",
              "      <th>Validation Loss</th>\n",
              "      <th>Accuracy</th>\n",
              "      <th>F1 Score</th>\n",
              "    </tr>\n",
              "  </thead>\n",
              "  <tbody>\n",
              "    <tr>\n",
              "      <td>1</td>\n",
              "      <td>0.552100</td>\n",
              "      <td>0.425950</td>\n",
              "      <td>0.828571</td>\n",
              "      <td>0.396985</td>\n",
              "    </tr>\n",
              "    <tr>\n",
              "      <td>2</td>\n",
              "      <td>0.408800</td>\n",
              "      <td>0.490900</td>\n",
              "      <td>0.797143</td>\n",
              "      <td>0.400844</td>\n",
              "    </tr>\n",
              "    <tr>\n",
              "      <td>3</td>\n",
              "      <td>0.202500</td>\n",
              "      <td>0.668337</td>\n",
              "      <td>0.756429</td>\n",
              "      <td>0.398589</td>\n",
              "    </tr>\n",
              "    <tr>\n",
              "      <td>4</td>\n",
              "      <td>0.072700</td>\n",
              "      <td>1.212822</td>\n",
              "      <td>0.749286</td>\n",
              "      <td>0.358318</td>\n",
              "    </tr>\n",
              "    <tr>\n",
              "      <td>5</td>\n",
              "      <td>0.018900</td>\n",
              "      <td>1.436749</td>\n",
              "      <td>0.749286</td>\n",
              "      <td>0.383128</td>\n",
              "    </tr>\n",
              "  </tbody>\n",
              "</table><p>"
            ]
          },
          "metadata": {}
        },
        {
          "output_type": "execute_result",
          "data": {
            "text/plain": [
              "TrainOutput(global_step=1085, training_loss=0.250978815720378, metrics={'train_runtime': 195.6407, 'train_samples_per_second': 177.213, 'train_steps_per_second': 5.546, 'total_flos': 2280515072332800.0, 'train_loss': 0.250978815720378, 'epoch': 5.0})"
            ]
          },
          "metadata": {},
          "execution_count": 15
        }
      ]
    },
    {
      "cell_type": "code",
      "source": [
        "import pandas as pd\n",
        "import numpy as np\n",
        "from sklearn.metrics import classification_report\n",
        "\n",
        "# 🚀 让 RoBERTa 进行预测\n",
        "predictions = trainer.predict(test_dataset)\n",
        "preds = np.argmax(predictions.predictions, axis=1)\n",
        "\n",
        "# 🚀 生成分类报告\n",
        "report = classification_report(test_labels, preds, target_names=[\"Not Sarcastic\", \"Sarcastic\"])\n",
        "print(\"\\n📊 RoBERTa 分类报告:\\n\", report)\n",
        "\n",
        "# 🚀 创建 DataFrame 以便保存结果\n",
        "results_df = pd.DataFrame({\n",
        "    \"Text\": test_texts,        # 测试集句子\n",
        "    \"True Label\": test_labels, # 真实标签\n",
        "    \"Predicted Label\": preds   # 预测结果\n",
        "})\n",
        "\n",
        "# 🚀 保存到 CSV 方便后续分析\n",
        "results_df.to_csv(\"roberta_predictions.csv\", index=False, encoding=\"utf-8\")\n",
        "\n",
        "print(\"\\n✅ 预测结果已保存为 roberta_predictions.csv\")\n"
      ],
      "metadata": {
        "colab": {
          "base_uri": "https://localhost:8080/",
          "height": 249
        },
        "id": "PXUzvQ2BZT6o",
        "outputId": "2f705504-544a-45a6-eb79-086d6e3c9886"
      },
      "execution_count": 16,
      "outputs": [
        {
          "output_type": "display_data",
          "data": {
            "text/plain": [
              "<IPython.core.display.HTML object>"
            ],
            "text/html": []
          },
          "metadata": {}
        },
        {
          "output_type": "stream",
          "name": "stdout",
          "text": [
            "\n",
            "📊 RoBERTa 分类报告:\n",
            "                precision    recall  f1-score   support\n",
            "\n",
            "Not Sarcastic       0.90      0.90      0.90      1200\n",
            "    Sarcastic       0.40      0.40      0.40       200\n",
            "\n",
            "     accuracy                           0.83      1400\n",
            "    macro avg       0.65      0.65      0.65      1400\n",
            " weighted avg       0.83      0.83      0.83      1400\n",
            "\n",
            "\n",
            "✅ 预测结果已保存为 roberta_predictions.csv\n"
          ]
        }
      ]
    },
    {
      "cell_type": "code",
      "source": [
        "import os\n",
        "\n",
        "# 🚀 设定模型保存路径\n",
        "save_path = \"./roberta_sarcasm\"\n",
        "\n",
        "# 🚀 保存模型和 tokenizer\n",
        "model.save_pretrained(save_path)\n",
        "tokenizer.save_pretrained(save_path)\n",
        "\n",
        "print(f\"\\n✅ 训练好的 RoBERTa 模型已保存到 {save_path}\")\n"
      ],
      "metadata": {
        "colab": {
          "base_uri": "https://localhost:8080/"
        },
        "id": "kYeB2BrXcp5g",
        "outputId": "93c72252-9517-4de3-e53a-31ae2d31e387"
      },
      "execution_count": 17,
      "outputs": [
        {
          "output_type": "stream",
          "name": "stdout",
          "text": [
            "\n",
            "✅ 训练好的 RoBERTa 模型已保存到 ./roberta_sarcasm\n"
          ]
        }
      ]
    },
    {
      "cell_type": "code",
      "source": [
        "import shutil\n",
        "from google.colab import files\n",
        "\n",
        "# 🚀 压缩整个模型文件夹\n",
        "shutil.make_archive(\"roberta_sarcasm\", 'zip', \"roberta_sarcasm\")\n",
        "\n",
        "# 🚀 下载到本地\n",
        "files.download(\"roberta_sarcasm.zip\")\n"
      ],
      "metadata": {
        "colab": {
          "base_uri": "https://localhost:8080/",
          "height": 34
        },
        "id": "V4mKO92-djgi",
        "outputId": "2dff5af0-2dd6-4c07-8c1c-647a3c0ad4e4"
      },
      "execution_count": 18,
      "outputs": [
        {
          "output_type": "display_data",
          "data": {
            "text/plain": [
              "<IPython.core.display.Javascript object>"
            ],
            "application/javascript": [
              "\n",
              "    async function download(id, filename, size) {\n",
              "      if (!google.colab.kernel.accessAllowed) {\n",
              "        return;\n",
              "      }\n",
              "      const div = document.createElement('div');\n",
              "      const label = document.createElement('label');\n",
              "      label.textContent = `Downloading \"${filename}\": `;\n",
              "      div.appendChild(label);\n",
              "      const progress = document.createElement('progress');\n",
              "      progress.max = size;\n",
              "      div.appendChild(progress);\n",
              "      document.body.appendChild(div);\n",
              "\n",
              "      const buffers = [];\n",
              "      let downloaded = 0;\n",
              "\n",
              "      const channel = await google.colab.kernel.comms.open(id);\n",
              "      // Send a message to notify the kernel that we're ready.\n",
              "      channel.send({})\n",
              "\n",
              "      for await (const message of channel.messages) {\n",
              "        // Send a message to notify the kernel that we're ready.\n",
              "        channel.send({})\n",
              "        if (message.buffers) {\n",
              "          for (const buffer of message.buffers) {\n",
              "            buffers.push(buffer);\n",
              "            downloaded += buffer.byteLength;\n",
              "            progress.value = downloaded;\n",
              "          }\n",
              "        }\n",
              "      }\n",
              "      const blob = new Blob(buffers, {type: 'application/binary'});\n",
              "      const a = document.createElement('a');\n",
              "      a.href = window.URL.createObjectURL(blob);\n",
              "      a.download = filename;\n",
              "      div.appendChild(a);\n",
              "      a.click();\n",
              "      div.remove();\n",
              "    }\n",
              "  "
            ]
          },
          "metadata": {}
        },
        {
          "output_type": "display_data",
          "data": {
            "text/plain": [
              "<IPython.core.display.Javascript object>"
            ],
            "application/javascript": [
              "download(\"download_028be56d-8d51-4ab1-afa1-fb9c61ed3336\", \"roberta_sarcasm.zip\", 464112521)"
            ]
          },
          "metadata": {}
        }
      ]
    }
  ]
}